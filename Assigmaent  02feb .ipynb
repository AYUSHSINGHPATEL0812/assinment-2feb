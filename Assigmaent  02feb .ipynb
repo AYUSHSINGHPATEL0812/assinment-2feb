{
 "cells": [
  {
   "cell_type": "code",
   "execution_count": null,
   "id": "9ad2815b-4cc7-4bb8-a7d8-1f9bc1726ffa",
   "metadata": {},
   "outputs": [],
   "source": [
    "Q1. Explain with an example each when to use a for loop and a while loop."
   ]
  },
  {
   "cell_type": "code",
   "execution_count": null,
   "id": "0eb5afd4-52d8-4cbe-b1b1-14d7b63acd01",
   "metadata": {},
   "outputs": [],
   "source": [
    "A for loop is suitable when you know the number"
   ]
  },
  {
   "cell_type": "code",
   "execution_count": null,
   "id": "ac38e79b-125b-49c0-be27-6303f0943acb",
   "metadata": {},
   "outputs": [],
   "source": [
    "numbers = [1, 2, 3, 4, 5]\n",
    "\n",
    "sum = 0\n",
    "\n",
    "for num in numbers:\n",
    "    sum += num\n",
    "\n",
    "print(sum)\n"
   ]
  },
  {
   "cell_type": "code",
   "execution_count": null,
   "id": "d456f5f3-3a9c-4529-9a18-a9012d4ad50b",
   "metadata": {},
   "outputs": [],
   "source": [
    "A while loop is useful when you don't know the number"
   ]
  },
  {
   "cell_type": "code",
   "execution_count": null,
   "id": "dab56128-5754-4b2b-86e9-5d73255f9677",
   "metadata": {},
   "outputs": [],
   "source": [
    "count = 10\n",
    "\n",
    "while count > 0:\n",
    "    print(count)\n",
    "    count -= 1\n",
    "\n",
    "print(\"Countdown complete!\")\n"
   ]
  },
  {
   "cell_type": "code",
   "execution_count": null,
   "id": "a69d6265-cb27-4888-b447-5dc52e979249",
   "metadata": {},
   "outputs": [],
   "source": []
  },
  {
   "cell_type": "code",
   "execution_count": null,
   "id": "6eb808bf-cca4-4895-91ac-a792406c3c99",
   "metadata": {},
   "outputs": [],
   "source": [
    "Write a python program to print the sum and product of the first 10 natural numbers using for\n",
    "and while loop."
   ]
  },
  {
   "cell_type": "code",
   "execution_count": null,
   "id": "61bf9b6a-3e1a-40fe-8ba8-dba208ac5fe2",
   "metadata": {},
   "outputs": [],
   "source": [
    "num = int(input(\"Enter a number: \")) \n",
    "if num < 0:\n",
    "    print(\"Please enter a positive number\")\n",
    "else:\n",
    "    sum = 0\n",
    "   \n",
    "     while(num > 0):\n",
    "        sum += num\n",
    "        num -= 1\n",
    "    print(\"The result is\", sum)"
   ]
  },
  {
   "cell_type": "code",
   "execution_count": null,
   "id": "5b394ea9-63c7-4bc9-8f9e-d04086d4ca6d",
   "metadata": {},
   "outputs": [],
   "source": []
  },
  {
   "cell_type": "code",
   "execution_count": null,
   "id": "05290caa-a74d-4020-98c0-c241110056f6",
   "metadata": {},
   "outputs": [],
   "source": []
  },
  {
   "cell_type": "code",
   "execution_count": null,
   "id": "0242541b-5682-45c2-8cd0-b3963727ca02",
   "metadata": {},
   "outputs": [],
   "source": [
    "Q4. Create a list of numbers from 1 to 100. Use for loop and while loop to calculate the cube of each\n",
    "number and if the cube of that number is divisible by 4 or 5 then append that number in a list and print\n",
    "that list."
   ]
  },
  {
   "cell_type": "code",
   "execution_count": null,
   "id": "dd635629-6f50-4060-b8e7-e79020760ccc",
   "metadata": {},
   "outputs": [],
   "source": [
    "  ## loop ...\n",
    "numbers = list(range(1, 101))\n",
    "cubes = []\n",
    "\n",
    "for num in numbers:\n",
    "    cube = num ** 3\n",
    "    if cube % 4 == 0 or cube % 5 == 0:\n",
    "        cubes.append(num)\n",
    "\n",
    "print(cubes)\n",
    "\n",
    "\n",
    "\n",
    "### while loop\n",
    "numbers = list(range(1, 101))\n",
    "cubes = []\n",
    "index = 0\n",
    "\n",
    "while index < len(numbers):\n",
    "    num = numbers[index]\n",
    "    cube = num ** 3\n",
    "    if cube % 4 == 0 or cube % 5 == 0:\n",
    "        cubes.append(num)\n",
    "    index += 1\n",
    "\n",
    "print(cubes)\n"
   ]
  },
  {
   "cell_type": "code",
   "execution_count": null,
   "id": "6c39cdde-7552-4ec8-be33-673f825fcbd6",
   "metadata": {},
   "outputs": [],
   "source": []
  },
  {
   "cell_type": "code",
   "execution_count": null,
   "id": "fe47970e-4716-4ebe-8a7c-c058343ffe5a",
   "metadata": {},
   "outputs": [],
   "source": [
    "Q5. Write a program to filter count vowels in the below-given string.\n",
    "string = \"I want to become a data scientist\""
   ]
  },
  {
   "cell_type": "code",
   "execution_count": null,
   "id": "f209d68e-0723-4c1d-9974-ba0d05ecbb88",
   "metadata": {},
   "outputs": [],
   "source": [
    "string = \"I want to become a data scientist\"\n",
    "vowels = \"aeiou\"\n",
    "count = 0\n",
    "\n",
    "for char in string:\n",
    "    if char.lower() in vowels:\n",
    "        count += 1\n",
    "\n",
    "print(\"Number of vowels:\", count)\n"
   ]
  },
  {
   "cell_type": "code",
   "execution_count": null,
   "id": "7cc3a322-6e68-4853-b0f0-188894833339",
   "metadata": {},
   "outputs": [],
   "source": []
  },
  {
   "cell_type": "code",
   "execution_count": null,
   "id": "76b72d6b-4d87-42c2-9508-6ded92667d8a",
   "metadata": {},
   "outputs": [],
   "source": [
    "q3"
   ]
  }
 ],
 "metadata": {
  "kernelspec": {
   "display_name": "Python 3 (ipykernel)",
   "language": "python",
   "name": "python3"
  },
  "language_info": {
   "codemirror_mode": {
    "name": "ipython",
    "version": 3
   },
   "file_extension": ".py",
   "mimetype": "text/x-python",
   "name": "python",
   "nbconvert_exporter": "python",
   "pygments_lexer": "ipython3",
   "version": "3.10.8"
  }
 },
 "nbformat": 4,
 "nbformat_minor": 5
}
